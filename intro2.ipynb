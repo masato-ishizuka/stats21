{
 "cells": [
  {
   "attachments": {},
   "cell_type": "markdown",
   "metadata": {},
   "source": [
    "# Heading 1\n",
    "\n",
    "## Heading 2\n",
    "\n",
    "**bold**\n",
    "\n",
    "*italic*\n",
    "\n",
    "- item 1\n",
    "- item 2\n",
    "- item 3\n",
    "\n",
    "1. item 1\n",
    "2. item 2\n",
    "    - subitem 1\n",
    "3. item 3\n",
    "\n",
    "\n",
    "```\n",
    "codte text\n",
    "```\n",
    "\n",
    "\n",
    "> insert text here block quote\n",
    "\n",
    "---\n",
    "$$\n",
    "\\sin^2(x) + \\cos^2(x) = 1\n",
    "$$\n",
    "\n",
    "---\n",
    "\n",
    "Insert links [click here](https://jose-toledo.netlify.app/ucla/stats21/)\n",
    "\n"
   ]
  }
 ],
 "metadata": {
  "language_info": {
   "name": "python"
  },
  "orig_nbformat": 4
 },
 "nbformat": 4,
 "nbformat_minor": 2
}
